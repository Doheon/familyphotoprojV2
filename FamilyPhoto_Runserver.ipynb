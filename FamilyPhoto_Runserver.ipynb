{
  "nbformat": 4,
  "nbformat_minor": 0,
  "metadata": {
    "colab": {
      "name": "FamilyPhoto_Runserver.ipynb",
      "provenance": [],
      "machine_shape": "hm",
      "authorship_tag": "ABX9TyMDBal4+6dsQbhytUwuUvm1",
      "include_colab_link": true
    },
    "kernelspec": {
      "name": "python3",
      "display_name": "Python 3"
    },
    "language_info": {
      "name": "python"
    },
    "accelerator": "GPU"
  },
  "cells": [
    {
      "cell_type": "markdown",
      "metadata": {
        "id": "view-in-github",
        "colab_type": "text"
      },
      "source": [
        "<a href=\"https://colab.research.google.com/github/Doheon/familyphotoprojV2/blob/main/FamilyPhoto_Runserver.ipynb\" target=\"_parent\"><img src=\"https://colab.research.google.com/assets/colab-badge.svg\" alt=\"Open In Colab\"/></a>"
      ]
    },
    {
      "cell_type": "code",
      "metadata": {
        "colab": {
          "base_uri": "https://localhost:8080/"
        },
        "id": "Qu-nWjF4dJyt",
        "outputId": "3eb544fb-634d-4f4b-d22d-a6f73157dca5"
      },
      "source": [
        "!git clone https://github.com/Doheon/familyphotoprojV2.git"
      ],
      "execution_count": 1,
      "outputs": [
        {
          "output_type": "stream",
          "text": [
            "Cloning into 'familyphotoprojV2'...\n",
            "remote: Enumerating objects: 135, done.\u001b[K\n",
            "remote: Counting objects: 100% (135/135), done.\u001b[K\n",
            "remote: Compressing objects: 100% (96/96), done.\u001b[K\n",
            "remote: Total 135 (delta 45), reused 122 (delta 32), pack-reused 0\u001b[K\n",
            "Receiving objects: 100% (135/135), 30.26 MiB | 35.09 MiB/s, done.\n",
            "Resolving deltas: 100% (45/45), done.\n"
          ],
          "name": "stdout"
        }
      ]
    },
    {
      "cell_type": "code",
      "metadata": {
        "colab": {
          "base_uri": "https://localhost:8080/"
        },
        "id": "OwxQ-aifdPwd",
        "outputId": "6186cab3-e72b-4023-958c-d7726ec9b603"
      },
      "source": [
        "cd familyphotoprojV2"
      ],
      "execution_count": 2,
      "outputs": [
        {
          "output_type": "stream",
          "text": [
            "/content/familyphotoprojV2\n"
          ],
          "name": "stdout"
        }
      ]
    },
    {
      "cell_type": "code",
      "metadata": {
        "id": "a2CNAFNbdROt"
      },
      "source": [
        "!pip install -r requirements.txt"
      ],
      "execution_count": null,
      "outputs": []
    },
    {
      "cell_type": "code",
      "metadata": {
        "colab": {
          "base_uri": "https://localhost:8080/"
        },
        "id": "mi0od3D_dVJQ",
        "outputId": "8698d7f9-1e63-4bc3-8398-2af418c03180"
      },
      "source": [
        "cd homepage/static/MLmodels"
      ],
      "execution_count": 4,
      "outputs": [
        {
          "output_type": "stream",
          "text": [
            "/content/familyphotoprojV2/homepage/static/MLmodels\n"
          ],
          "name": "stdout"
        }
      ]
    },
    {
      "cell_type": "code",
      "metadata": {
        "id": "ovQcFpEYh8Y4"
      },
      "source": [
        "#get model weight"
      ],
      "execution_count": 5,
      "outputs": []
    },
    {
      "cell_type": "code",
      "metadata": {
        "id": "nF1xji_CdXLZ"
      },
      "source": [
        "!wget ftp://andh1220.tplinkdns.com//public/MLmodels/classification.pth"
      ],
      "execution_count": null,
      "outputs": []
    },
    {
      "cell_type": "code",
      "metadata": {
        "id": "1fkKaKf1ddeB"
      },
      "source": [
        "!wget ftp://andh1220.tplinkdns.com//public/MLmodels/faceDetection.pth"
      ],
      "execution_count": null,
      "outputs": []
    },
    {
      "cell_type": "code",
      "metadata": {
        "colab": {
          "base_uri": "https://localhost:8080/"
        },
        "id": "a7-8Smc5dixb",
        "outputId": "e0d370c6-0878-4918-ae2f-a29f7c6f6344"
      },
      "source": [
        "cd /content/familyphotoprojV2"
      ],
      "execution_count": 8,
      "outputs": [
        {
          "output_type": "stream",
          "text": [
            "/content/familyphotoprojV2\n"
          ],
          "name": "stdout"
        }
      ]
    },
    {
      "cell_type": "code",
      "metadata": {
        "id": "1x3PzyaDdlwB"
      },
      "source": [
        "#activate GPU option\n",
        "#if your runtime is CPU, don't run this cell\n",
        "a_file = open(\"homepage/views.py\", \"r\")\n",
        "list_of_lines = a_file.readlines()\n",
        "list_of_lines[38] = \"#cfg.MODEL.DEVICE='cpu'\\n\"\n",
        "a_file = open(\"homepage/views.py\", \"w\")\n",
        "a_file.writelines(list_of_lines)\n",
        "a_file.close()"
      ],
      "execution_count": 9,
      "outputs": []
    },
    {
      "cell_type": "code",
      "metadata": {
        "colab": {
          "base_uri": "https://localhost:8080/",
          "height": 35
        },
        "id": "wTRWHrdqdo_M",
        "outputId": "d8583138-19ef-43c2-8864-7de89a3fef7d"
      },
      "source": [
        "#connect link\n",
        "from google.colab.output import eval_js\n",
        "print(eval_js(\"google.colab.kernel.proxyPort(8000)\"))"
      ],
      "execution_count": 10,
      "outputs": [
        {
          "output_type": "stream",
          "text": [
            "https://5pb0qchu55-496ff2e9c6d22116-8000-colab.googleusercontent.com/\n"
          ],
          "name": "stdout"
        }
      ]
    },
    {
      "cell_type": "code",
      "metadata": {
        "id": "HVHM2tXwdq1X"
      },
      "source": [
        "!python manage.py runserver 0.0.0.0:8000"
      ],
      "execution_count": null,
      "outputs": []
    },
    {
      "cell_type": "code",
      "metadata": {
        "id": "mgCzPwQ6fac_"
      },
      "source": [
        ""
      ],
      "execution_count": 11,
      "outputs": []
    }
  ]
}
