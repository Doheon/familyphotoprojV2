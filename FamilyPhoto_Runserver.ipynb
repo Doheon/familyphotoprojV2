{
  "nbformat": 4,
  "nbformat_minor": 0,
  "metadata": {
    "colab": {
      "name": "FamilyPhoto_Runserver.ipynb",
      "provenance": [],
      "machine_shape": "hm",
      "authorship_tag": "ABX9TyMDBal4+6dsQbhytUwuUvm1",
      "include_colab_link": true
    },
    "kernelspec": {
      "name": "python3",
      "display_name": "Python 3"
    },
    "language_info": {
      "name": "python"
    },
    "accelerator": "GPU"
  },
  "cells": [
    {
      "cell_type": "markdown",
      "metadata": {
        "id": "view-in-github",
        "colab_type": "text"
      },
      "source": [
        "<a href=\"https://colab.research.google.com/github/Doheon/familyphotoprojV2/blob/main/FamilyPhoto_Runserver.ipynb\" target=\"_parent\"><img src=\"https://colab.research.google.com/assets/colab-badge.svg\" alt=\"Open In Colab\"/></a>"
      ]
    },
    {
      "cell_type": "code",
      "metadata": {
        "colab": {
          "base_uri": "https://localhost:8080/"
        },
        "id": "Qu-nWjF4dJyt",
        "outputId": "3eb544fb-634d-4f4b-d22d-a6f73157dca5"
      },
      "source": [
        "!git clone https://github.com/Doheon/familyphotoprojV2.git"
      ],
      "execution_count": 1,
      "outputs": [
        {
          "output_type": "stream",
          "text": [
            "Cloning into 'familyphotoprojV2'...\n",
            "remote: Enumerating objects: 135, done.\u001b[K\n",
            "remote: Counting objects: 100% (135/135), done.\u001b[K\n",
            "remote: Compressing objects: 100% (96/96), done.\u001b[K\n",
            "remote: Total 135 (delta 45), reused 122 (delta 32), pack-reused 0\u001b[K\n",
            "Receiving objects: 100% (135/135), 30.26 MiB | 35.09 MiB/s, done.\n",
            "Resolving deltas: 100% (45/45), done.\n"
          ],
          "name": "stdout"
        }
      ]
    },
    {
      "cell_type": "code",
      "metadata": {
        "colab": {
          "base_uri": "https://localhost:8080/"
        },
        "id": "OwxQ-aifdPwd",
        "outputId": "6186cab3-e72b-4023-958c-d7726ec9b603"
      },
      "source": [
        "cd familyphotoprojV2"
      ],
      "execution_count": 2,
      "outputs": [
        {
          "output_type": "stream",
          "text": [
            "/content/familyphotoprojV2\n"
          ],
          "name": "stdout"
        }
      ]
    },
    {
      "cell_type": "code",
      "metadata": {
        "colab": {
          "base_uri": "https://localhost:8080/",
          "height": 1000
        },
        "id": "a2CNAFNbdROt",
        "outputId": "35266a3e-560e-4add-eac2-bdc636a3ab73"
      },
      "source": [
        "!pip install -r requirements.txt"
      ],
      "execution_count": 3,
      "outputs": [
        {
          "output_type": "stream",
          "text": [
            "Requirement already satisfied: absl-py==0.12.0 in /usr/local/lib/python3.7/dist-packages (from -r requirements.txt (line 1)) (0.12.0)\n",
            "Collecting antlr4-python3-runtime==4.8\n",
            "\u001b[?25l  Downloading https://files.pythonhosted.org/packages/56/02/789a0bddf9c9b31b14c3e79ec22b9656185a803dc31c15f006f9855ece0d/antlr4-python3-runtime-4.8.tar.gz (112kB)\n",
            "\u001b[K     |████████████████████████████████| 112kB 3.9MB/s \n",
            "\u001b[?25hCollecting asgiref==3.3.4\n",
            "  Downloading https://files.pythonhosted.org/packages/17/8b/05e225d11154b8f5358e6a6d277679c9741ec0339d1e451c9cef687a9170/asgiref-3.3.4-py3-none-any.whl\n",
            "Requirement already satisfied: cachetools==4.2.1 in /usr/local/lib/python3.7/dist-packages (from -r requirements.txt (line 4)) (4.2.1)\n",
            "Requirement already satisfied: certifi==2020.12.5 in /usr/local/lib/python3.7/dist-packages (from -r requirements.txt (line 5)) (2020.12.5)\n",
            "Collecting chardet==4.0.0\n",
            "\u001b[?25l  Downloading https://files.pythonhosted.org/packages/19/c7/fa589626997dd07bd87d9269342ccb74b1720384a4d739a1872bd84fbe68/chardet-4.0.0-py2.py3-none-any.whl (178kB)\n",
            "\u001b[K     |████████████████████████████████| 184kB 15.1MB/s \n",
            "\u001b[?25hCollecting cloudpickle==1.6.0\n",
            "  Downloading https://files.pythonhosted.org/packages/e7/e3/898487e5dbeb612054cf2e0c188463acb358167fef749c53c8bb8918cea1/cloudpickle-1.6.0-py3-none-any.whl\n",
            "Requirement already satisfied: cycler==0.10.0 in /usr/local/lib/python3.7/dist-packages (from -r requirements.txt (line 8)) (0.10.0)\n",
            "Collecting Cython==0.29.23\n",
            "\u001b[?25l  Downloading https://files.pythonhosted.org/packages/0c/15/cca3ac44776df9ee27286941315dd8b14a598e8d80970200d05f720b9274/Cython-0.29.23-cp37-cp37m-manylinux1_x86_64.whl (2.0MB)\n",
            "\u001b[K     |████████████████████████████████| 2.0MB 44.6MB/s \n",
            "\u001b[?25hCollecting detectron2@ git+https://github.com/facebookresearch/detectron2.git@72059968a2b2337ab34c86ddcbfc2f22e6914ff3\n",
            "  Cloning https://github.com/facebookresearch/detectron2.git (to revision 72059968a2b2337ab34c86ddcbfc2f22e6914ff3) to /tmp/pip-install-ev3ut9a8/detectron2\n",
            "  Running command git clone -q https://github.com/facebookresearch/detectron2.git /tmp/pip-install-ev3ut9a8/detectron2\n",
            "  Running command git checkout -q 72059968a2b2337ab34c86ddcbfc2f22e6914ff3\n",
            "Collecting Django==3.2\n",
            "\u001b[?25l  Downloading https://files.pythonhosted.org/packages/a8/9b/fe94c509e514f6c227308e81076506eb9d67f2bfb8061ce5cdfbde0432e3/Django-3.2-py3-none-any.whl (7.9MB)\n",
            "\u001b[K     |████████████████████████████████| 7.9MB 45.9MB/s \n",
            "\u001b[?25hCollecting future==0.18.2\n",
            "\u001b[?25l  Downloading https://files.pythonhosted.org/packages/45/0b/38b06fd9b92dc2b68d58b75f900e97884c45bedd2ff83203d933cf5851c9/future-0.18.2.tar.gz (829kB)\n",
            "\u001b[K     |████████████████████████████████| 829kB 47.1MB/s \n",
            "\u001b[?25hCollecting fvcore==0.1.5.post20210415\n",
            "\u001b[?25l  Downloading https://files.pythonhosted.org/packages/93/aa/6bac1efae26bca55f9dd6b974f51601a6f9ce8dd437869d52dfb3f92841b/fvcore-0.1.5.post20210415.tar.gz (48kB)\n",
            "\u001b[K     |████████████████████████████████| 51kB 6.6MB/s \n",
            "\u001b[?25hCollecting google-auth==1.29.0\n",
            "\u001b[?25l  Downloading https://files.pythonhosted.org/packages/81/1d/8ac595f03e32b18fc32a245f7d0f96a6864b9a3678660af868fcc73167e5/google_auth-1.29.0-py2.py3-none-any.whl (142kB)\n",
            "\u001b[K     |████████████████████████████████| 143kB 44.3MB/s \n",
            "\u001b[?25hRequirement already satisfied: google-auth-oauthlib==0.4.4 in /usr/local/lib/python3.7/dist-packages (from -r requirements.txt (line 15)) (0.4.4)\n",
            "Collecting grpcio==1.37.0\n",
            "\u001b[?25l  Downloading https://files.pythonhosted.org/packages/2c/8c/c4767d8f4e88a46983896ce3db52e972cbb9a9abc87a1625cbbc46c434ca/grpcio-1.37.0-cp37-cp37m-manylinux2014_x86_64.whl (4.2MB)\n",
            "\u001b[K     |████████████████████████████████| 4.2MB 36.8MB/s \n",
            "\u001b[?25hRequirement already satisfied: idna==2.10 in /usr/local/lib/python3.7/dist-packages (from -r requirements.txt (line 17)) (2.10)\n",
            "Collecting iopath==0.1.7\n",
            "  Downloading https://files.pythonhosted.org/packages/e3/d5/1c70fea7632640e8a9fb5a176676e555238119b3e7ee8b6dc49980ec5769/iopath-0.1.7-py3-none-any.whl\n",
            "Requirement already satisfied: kiwisolver==1.3.1 in /usr/local/lib/python3.7/dist-packages (from -r requirements.txt (line 19)) (1.3.1)\n",
            "Requirement already satisfied: Markdown==3.3.4 in /usr/local/lib/python3.7/dist-packages (from -r requirements.txt (line 20)) (3.3.4)\n",
            "Collecting matplotlib==3.4.1\n",
            "\u001b[?25l  Downloading https://files.pythonhosted.org/packages/ce/63/74c0b6184b6b169b121bb72458818ee60a7d7c436d7b1907bd5874188c55/matplotlib-3.4.1-cp37-cp37m-manylinux1_x86_64.whl (10.3MB)\n",
            "\u001b[K     |████████████████████████████████| 10.3MB 25.9MB/s \n",
            "\u001b[?25hCollecting numpy==1.20.2\n",
            "\u001b[?25l  Downloading https://files.pythonhosted.org/packages/73/ef/8967d406f3f85018ceb5efab50431e901683188f1741ceb053efcab26c87/numpy-1.20.2-cp37-cp37m-manylinux2010_x86_64.whl (15.3MB)\n",
            "\u001b[K     |████████████████████████████████| 15.3MB 34.7MB/s \n",
            "\u001b[?25hRequirement already satisfied: oauthlib==3.1.0 in /usr/local/lib/python3.7/dist-packages (from -r requirements.txt (line 23)) (3.1.0)\n",
            "Collecting omegaconf==2.1.0.dev22\n",
            "\u001b[?25l  Downloading https://files.pythonhosted.org/packages/46/1c/6ecce6df0e112f381c355144b4f8de56157e68abbf93a7dd3fbf98d28ac2/omegaconf-2.1.0.dev22-py3-none-any.whl (66kB)\n",
            "\u001b[K     |████████████████████████████████| 71kB 8.3MB/s \n",
            "\u001b[?25hCollecting opencv-python==4.5.1.48\n",
            "\u001b[?25l  Downloading https://files.pythonhosted.org/packages/0f/13/192104516c4a3d92dc6b5e106ffcfbf0fe35f3c4faa49650205ff652af72/opencv_python-4.5.1.48-cp37-cp37m-manylinux2014_x86_64.whl (50.4MB)\n",
            "\u001b[K     |████████████████████████████████| 50.4MB 114kB/s \n",
            "\u001b[?25hCollecting Pillow==8.2.0\n",
            "\u001b[?25l  Downloading https://files.pythonhosted.org/packages/33/34/542152297dcc6c47a9dcb0685eac6d652d878ed3cea83bf2b23cb988e857/Pillow-8.2.0-cp37-cp37m-manylinux1_x86_64.whl (3.0MB)\n",
            "\u001b[K     |████████████████████████████████| 3.0MB 39.4MB/s \n",
            "\u001b[?25hCollecting portalocker==2.3.0\n",
            "  Downloading https://files.pythonhosted.org/packages/68/33/cb524f4de298509927b90aa5ee34767b9a2b93e663cf354b2a3efa2b4acd/portalocker-2.3.0-py2.py3-none-any.whl\n",
            "Collecting protobuf==3.15.8\n",
            "\u001b[?25l  Downloading https://files.pythonhosted.org/packages/51/4e/de63de3cd9a83d3c1753a4566b11fc9d90b845f2448a132cfd36d3cb3cd1/protobuf-3.15.8-cp37-cp37m-manylinux1_x86_64.whl (1.0MB)\n",
            "\u001b[K     |████████████████████████████████| 1.0MB 37.1MB/s \n",
            "\u001b[?25hRequirement already satisfied: pyasn1==0.4.8 in /usr/local/lib/python3.7/dist-packages (from -r requirements.txt (line 29)) (0.4.8)\n",
            "Requirement already satisfied: pyasn1-modules==0.2.8 in /usr/local/lib/python3.7/dist-packages (from -r requirements.txt (line 30)) (0.2.8)\n",
            "Requirement already satisfied: pycocotools==2.0.2 in /usr/local/lib/python3.7/dist-packages (from -r requirements.txt (line 31)) (2.0.2)\n",
            "Collecting pydot==1.4.2\n",
            "  Downloading https://files.pythonhosted.org/packages/ea/76/75b1bb82e9bad3e3d656556eaa353d8cd17c4254393b08ec9786ac8ed273/pydot-1.4.2-py2.py3-none-any.whl\n",
            "Requirement already satisfied: pyparsing==2.4.7 in /usr/local/lib/python3.7/dist-packages (from -r requirements.txt (line 33)) (2.4.7)\n",
            "Requirement already satisfied: python-dateutil==2.8.1 in /usr/local/lib/python3.7/dist-packages (from -r requirements.txt (line 34)) (2.8.1)\n",
            "Collecting pytz==2021.1\n",
            "\u001b[?25l  Downloading https://files.pythonhosted.org/packages/70/94/784178ca5dd892a98f113cdd923372024dc04b8d40abe77ca76b5fb90ca6/pytz-2021.1-py2.py3-none-any.whl (510kB)\n",
            "\u001b[K     |████████████████████████████████| 512kB 41.8MB/s \n",
            "\u001b[?25hCollecting PyYAML==5.4.1\n",
            "\u001b[?25l  Downloading https://files.pythonhosted.org/packages/7a/a5/393c087efdc78091afa2af9f1378762f9821c9c1d7a22c5753fb5ac5f97a/PyYAML-5.4.1-cp37-cp37m-manylinux1_x86_64.whl (636kB)\n",
            "\u001b[K     |████████████████████████████████| 645kB 41.5MB/s \n",
            "\u001b[?25hCollecting requests==2.25.1\n",
            "\u001b[?25l  Downloading https://files.pythonhosted.org/packages/29/c1/24814557f1d22c56d50280771a17307e6bf87b70727d975fd6b2ce6b014a/requests-2.25.1-py2.py3-none-any.whl (61kB)\n",
            "\u001b[K     |████████████████████████████████| 61kB 8.1MB/s \n",
            "\u001b[?25hRequirement already satisfied: requests-oauthlib==1.3.0 in /usr/local/lib/python3.7/dist-packages (from -r requirements.txt (line 38)) (1.3.0)\n",
            "Requirement already satisfied: rsa==4.7.2 in /usr/local/lib/python3.7/dist-packages (from -r requirements.txt (line 39)) (4.7.2)\n",
            "Requirement already satisfied: six==1.15.0 in /usr/local/lib/python3.7/dist-packages (from -r requirements.txt (line 40)) (1.15.0)\n",
            "Requirement already satisfied: sqlparse==0.4.1 in /usr/local/lib/python3.7/dist-packages (from -r requirements.txt (line 41)) (0.4.1)\n",
            "Requirement already satisfied: tabulate==0.8.9 in /usr/local/lib/python3.7/dist-packages (from -r requirements.txt (line 42)) (0.8.9)\n",
            "Requirement already satisfied: tensorboard==2.4.1 in /usr/local/lib/python3.7/dist-packages (from -r requirements.txt (line 43)) (2.4.1)\n",
            "Requirement already satisfied: tensorboard-plugin-wit==1.8.0 in /usr/local/lib/python3.7/dist-packages (from -r requirements.txt (line 44)) (1.8.0)\n",
            "Requirement already satisfied: termcolor==1.1.0 in /usr/local/lib/python3.7/dist-packages (from -r requirements.txt (line 45)) (1.1.0)\n",
            "Requirement already satisfied: torch==1.8.1 in /usr/local/lib/python3.7/dist-packages (from -r requirements.txt (line 46)) (1.8.1+cu101)\n",
            "Collecting torchaudio==0.8.1\n",
            "\u001b[?25l  Downloading https://files.pythonhosted.org/packages/aa/55/01ad9244bcd595e39cea5ce30726a7fe02fd963d07daeb136bfe7e23f0a5/torchaudio-0.8.1-cp37-cp37m-manylinux1_x86_64.whl (1.9MB)\n",
            "\u001b[K     |████████████████████████████████| 1.9MB 42.1MB/s \n",
            "\u001b[?25hRequirement already satisfied: torchvision==0.9.1 in /usr/local/lib/python3.7/dist-packages (from -r requirements.txt (line 48)) (0.9.1+cu101)\n",
            "Collecting tqdm==4.60.0\n",
            "\u001b[?25l  Downloading https://files.pythonhosted.org/packages/72/8a/34efae5cf9924328a8f34eeb2fdaae14c011462d9f0e3fcded48e1266d1c/tqdm-4.60.0-py2.py3-none-any.whl (75kB)\n",
            "\u001b[K     |████████████████████████████████| 81kB 9.3MB/s \n",
            "\u001b[?25hRequirement already satisfied: typing-extensions==3.7.4.3 in /usr/local/lib/python3.7/dist-packages (from -r requirements.txt (line 50)) (3.7.4.3)\n",
            "Collecting urllib3==1.26.4\n",
            "\u001b[?25l  Downloading https://files.pythonhosted.org/packages/09/c6/d3e3abe5b4f4f16cf0dfc9240ab7ce10c2baa0e268989a4e3ec19e90c84e/urllib3-1.26.4-py2.py3-none-any.whl (153kB)\n",
            "\u001b[K     |████████████████████████████████| 153kB 49.8MB/s \n",
            "\u001b[?25hRequirement already satisfied: Werkzeug==1.0.1 in /usr/local/lib/python3.7/dist-packages (from -r requirements.txt (line 52)) (1.0.1)\n",
            "Collecting yacs==0.1.8\n",
            "  Downloading https://files.pythonhosted.org/packages/38/4f/fe9a4d472aa867878ce3bb7efb16654c5d63672b86dc0e6e953a67018433/yacs-0.1.8-py3-none-any.whl\n",
            "Requirement already satisfied: setuptools>=40.3.0 in /usr/local/lib/python3.7/dist-packages (from google-auth==1.29.0->-r requirements.txt (line 14)) (56.0.0)\n",
            "Requirement already satisfied: importlib-metadata; python_version < \"3.8\" in /usr/local/lib/python3.7/dist-packages (from Markdown==3.3.4->-r requirements.txt (line 20)) (3.10.1)\n",
            "Requirement already satisfied: wheel>=0.26; python_version >= \"3\" in /usr/local/lib/python3.7/dist-packages (from tensorboard==2.4.1->-r requirements.txt (line 43)) (0.36.2)\n",
            "Requirement already satisfied: zipp>=0.5 in /usr/local/lib/python3.7/dist-packages (from importlib-metadata; python_version < \"3.8\"->Markdown==3.3.4->-r requirements.txt (line 20)) (3.4.1)\n",
            "Building wheels for collected packages: antlr4-python3-runtime, detectron2, future, fvcore\n",
            "  Building wheel for antlr4-python3-runtime (setup.py) ... \u001b[?25l\u001b[?25hdone\n",
            "  Created wheel for antlr4-python3-runtime: filename=antlr4_python3_runtime-4.8-cp37-none-any.whl size=141231 sha256=4508f41b2532de357f85061517185c5b81d357a1bbfe120ff9bf0f9f5977bd6e\n",
            "  Stored in directory: /root/.cache/pip/wheels/e3/e2/fa/b78480b448b8579ddf393bebd3f47ee23aa84c89b6a78285c8\n",
            "  Building wheel for detectron2 (setup.py) ... \u001b[?25l\u001b[?25hdone\n",
            "  Created wheel for detectron2: filename=detectron2-0.4-cp37-cp37m-linux_x86_64.whl size=5399756 sha256=8e6b75cc2be1f5a1b31c187328f656a07e68e456a2bd1bbf5af9aeaafc8965a0\n",
            "  Stored in directory: /tmp/pip-ephem-wheel-cache-b7ce7o39/wheels/0f/e9/41/3b70221c506d97af3ee4d782e8f8d4957354c837a18301970a\n",
            "  Building wheel for future (setup.py) ... \u001b[?25l\u001b[?25hdone\n",
            "  Created wheel for future: filename=future-0.18.2-cp37-none-any.whl size=491058 sha256=3a14a42edd2126e5c89c5a37d5bb7200644bfac48129446c088eb14548eb2dae\n",
            "  Stored in directory: /root/.cache/pip/wheels/8b/99/a0/81daf51dcd359a9377b110a8a886b3895921802d2fc1b2397e\n",
            "  Building wheel for fvcore (setup.py) ... \u001b[?25l\u001b[?25hdone\n",
            "  Created wheel for fvcore: filename=fvcore-0.1.5.post20210415-cp37-none-any.whl size=59310 sha256=b6ed7c0eb42f6b1ab832a22fdf409a834923ac6baac9c9a47175b8ef1112c1b5\n",
            "  Stored in directory: /root/.cache/pip/wheels/a3/51/39/6bce45bcb56ba30ed7ea1386ddc22bb5853fa9887c080145e8\n",
            "Successfully built antlr4-python3-runtime detectron2 future fvcore\n",
            "\u001b[31mERROR: tensorflow 2.4.1 has requirement grpcio~=1.32.0, but you'll have grpcio 1.37.0 which is incompatible.\u001b[0m\n",
            "\u001b[31mERROR: tensorflow 2.4.1 has requirement numpy~=1.19.2, but you'll have numpy 1.20.2 which is incompatible.\u001b[0m\n",
            "\u001b[31mERROR: google-colab 1.0.0 has requirement requests~=2.23.0, but you'll have requests 2.25.1 which is incompatible.\u001b[0m\n",
            "\u001b[31mERROR: datascience 0.10.6 has requirement folium==0.2.1, but you'll have folium 0.8.3 which is incompatible.\u001b[0m\n",
            "\u001b[31mERROR: albumentations 0.1.12 has requirement imgaug<0.2.7,>=0.2.5, but you'll have imgaug 0.2.9 which is incompatible.\u001b[0m\n",
            "Installing collected packages: antlr4-python3-runtime, asgiref, chardet, cloudpickle, Cython, Pillow, PyYAML, yacs, numpy, matplotlib, tqdm, portalocker, iopath, fvcore, future, pydot, omegaconf, detectron2, pytz, Django, google-auth, grpcio, opencv-python, protobuf, urllib3, requests, torchaudio\n",
            "  Found existing installation: chardet 3.0.4\n",
            "    Uninstalling chardet-3.0.4:\n",
            "      Successfully uninstalled chardet-3.0.4\n",
            "  Found existing installation: cloudpickle 1.3.0\n",
            "    Uninstalling cloudpickle-1.3.0:\n",
            "      Successfully uninstalled cloudpickle-1.3.0\n",
            "  Found existing installation: Cython 0.29.22\n",
            "    Uninstalling Cython-0.29.22:\n",
            "      Successfully uninstalled Cython-0.29.22\n",
            "  Found existing installation: Pillow 7.1.2\n",
            "    Uninstalling Pillow-7.1.2:\n",
            "      Successfully uninstalled Pillow-7.1.2\n",
            "  Found existing installation: PyYAML 3.13\n",
            "    Uninstalling PyYAML-3.13:\n",
            "      Successfully uninstalled PyYAML-3.13\n",
            "  Found existing installation: numpy 1.19.5\n",
            "    Uninstalling numpy-1.19.5:\n",
            "      Successfully uninstalled numpy-1.19.5\n",
            "  Found existing installation: matplotlib 3.2.2\n",
            "    Uninstalling matplotlib-3.2.2:\n",
            "      Successfully uninstalled matplotlib-3.2.2\n",
            "  Found existing installation: tqdm 4.41.1\n",
            "    Uninstalling tqdm-4.41.1:\n",
            "      Successfully uninstalled tqdm-4.41.1\n",
            "  Found existing installation: future 0.16.0\n",
            "    Uninstalling future-0.16.0:\n",
            "      Successfully uninstalled future-0.16.0\n",
            "  Found existing installation: pydot 1.3.0\n",
            "    Uninstalling pydot-1.3.0:\n",
            "      Successfully uninstalled pydot-1.3.0\n",
            "  Found existing installation: pytz 2018.9\n",
            "    Uninstalling pytz-2018.9:\n",
            "      Successfully uninstalled pytz-2018.9\n",
            "  Found existing installation: google-auth 1.28.1\n",
            "    Uninstalling google-auth-1.28.1:\n",
            "      Successfully uninstalled google-auth-1.28.1\n",
            "  Found existing installation: grpcio 1.32.0\n",
            "    Uninstalling grpcio-1.32.0:\n",
            "      Successfully uninstalled grpcio-1.32.0\n",
            "  Found existing installation: opencv-python 4.1.2.30\n",
            "    Uninstalling opencv-python-4.1.2.30:\n",
            "      Successfully uninstalled opencv-python-4.1.2.30\n",
            "  Found existing installation: protobuf 3.12.4\n",
            "    Uninstalling protobuf-3.12.4:\n",
            "      Successfully uninstalled protobuf-3.12.4\n",
            "  Found existing installation: urllib3 1.24.3\n",
            "    Uninstalling urllib3-1.24.3:\n",
            "      Successfully uninstalled urllib3-1.24.3\n",
            "  Found existing installation: requests 2.23.0\n",
            "    Uninstalling requests-2.23.0:\n",
            "      Successfully uninstalled requests-2.23.0\n",
            "Successfully installed Cython-0.29.23 Django-3.2 Pillow-8.2.0 PyYAML-5.4.1 antlr4-python3-runtime-4.8 asgiref-3.3.4 chardet-4.0.0 cloudpickle-1.6.0 detectron2-0.4 future-0.18.2 fvcore-0.1.5.post20210415 google-auth-1.29.0 grpcio-1.37.0 iopath-0.1.7 matplotlib-3.4.1 numpy-1.20.2 omegaconf-2.1.0.dev22 opencv-python-4.5.1.48 portalocker-2.3.0 protobuf-3.15.8 pydot-1.4.2 pytz-2021.1 requests-2.25.1 torchaudio-0.8.1 tqdm-4.60.0 urllib3-1.26.4 yacs-0.1.8\n"
          ],
          "name": "stdout"
        },
        {
          "output_type": "display_data",
          "data": {
            "application/vnd.colab-display-data+json": {
              "pip_warning": {
                "packages": [
                  "PIL",
                  "google",
                  "matplotlib",
                  "mpl_toolkits",
                  "numpy",
                  "pydevd_plugins",
                  "pytz"
                ]
              }
            }
          },
          "metadata": {
            "tags": []
          }
        }
      ]
    },
    {
      "cell_type": "code",
      "metadata": {
        "colab": {
          "base_uri": "https://localhost:8080/"
        },
        "id": "mi0od3D_dVJQ",
        "outputId": "8698d7f9-1e63-4bc3-8398-2af418c03180"
      },
      "source": [
        "cd homepage/static/MLmodels"
      ],
      "execution_count": 4,
      "outputs": [
        {
          "output_type": "stream",
          "text": [
            "/content/familyphotoprojV2/homepage/static/MLmodels\n"
          ],
          "name": "stdout"
        }
      ]
    },
    {
      "cell_type": "code",
      "metadata": {
        "id": "ovQcFpEYh8Y4"
      },
      "source": [
        "#get model weight"
      ],
      "execution_count": 5,
      "outputs": []
    },
    {
      "cell_type": "code",
      "metadata": {
        "colab": {
          "base_uri": "https://localhost:8080/"
        },
        "id": "nF1xji_CdXLZ",
        "outputId": "5176110c-8c10-4000-c999-3d34ca4228a3"
      },
      "source": [
        "!wget --ftp-user=public --ftp-password=public ftp://andh1220.ipdisk.co.kr//HDD1/System\\ Volume\\ Information/public/MLmodels/classification.pth"
      ],
      "execution_count": 6,
      "outputs": [
        {
          "output_type": "stream",
          "text": [
            "--2021-05-05 12:50:23--  ftp://andh1220.ipdisk.co.kr//HDD1/System%20Volume%20Information/public/MLmodels/classification.pth\n",
            "           => ‘classification.pth’\n",
            "Resolving andh1220.ipdisk.co.kr (andh1220.ipdisk.co.kr)... 211.198.5.217\n",
            "Connecting to andh1220.ipdisk.co.kr (andh1220.ipdisk.co.kr)|211.198.5.217|:21... connected.\n",
            "Logging in as public ... Logged in!\n",
            "==> SYST ... done.    ==> PWD ... done.\n",
            "==> TYPE I ... done.  ==> CWD (1) /HDD1/System Volume Information/public/MLmodels ... done.\n",
            "==> SIZE classification.pth ... 44795513\n",
            "==> PASV ... done.    ==> RETR classification.pth ... done.\n",
            "Length: 44795513 (43M) (unauthoritative)\n",
            "\n",
            "classification.pth  100%[===================>]  42.72M  4.90MB/s    in 11s     \n",
            "\n",
            "2021-05-05 12:50:37 (3.83 MB/s) - ‘classification.pth’ saved [44795513]\n",
            "\n"
          ],
          "name": "stdout"
        }
      ]
    },
    {
      "cell_type": "code",
      "metadata": {
        "colab": {
          "base_uri": "https://localhost:8080/"
        },
        "id": "1fkKaKf1ddeB",
        "outputId": "5ec4ad8d-a713-4efa-e4e6-3e2bedf8bbbd"
      },
      "source": [
        "!wget --ftp-user=public --ftp-password=public ftp://andh1220.ipdisk.co.kr//HDD1/System\\ Volume\\ Information/public/MLmodels/faceDetection.pth"
      ],
      "execution_count": 7,
      "outputs": [
        {
          "output_type": "stream",
          "text": [
            "--2021-05-05 12:50:37--  ftp://andh1220.ipdisk.co.kr//HDD1/System%20Volume%20Information/public/MLmodels/faceDetection.pth\n",
            "           => ‘faceDetection.pth’\n",
            "Resolving andh1220.ipdisk.co.kr (andh1220.ipdisk.co.kr)... 211.198.5.217\n",
            "Connecting to andh1220.ipdisk.co.kr (andh1220.ipdisk.co.kr)|211.198.5.217|:21... connected.\n",
            "Logging in as public ... Logged in!\n",
            "==> SYST ... done.    ==> PWD ... done.\n",
            "==> TYPE I ... done.  ==> CWD (1) /HDD1/System Volume Information/public/MLmodels ... done.\n",
            "==> SIZE faceDetection.pth ... 835266949\n",
            "==> PASV ... done.    ==> RETR faceDetection.pth ... done.\n",
            "Length: 835266949 (797M) (unauthoritative)\n",
            "\n",
            "faceDetection.pth   100%[===================>] 796.57M  6.02MB/s    in 2m 48s  \n",
            "\n",
            "2021-05-05 12:53:28 (4.74 MB/s) - ‘faceDetection.pth’ saved [835266949]\n",
            "\n"
          ],
          "name": "stdout"
        }
      ]
    },
    {
      "cell_type": "code",
      "metadata": {
        "colab": {
          "base_uri": "https://localhost:8080/"
        },
        "id": "a7-8Smc5dixb",
        "outputId": "e0d370c6-0878-4918-ae2f-a29f7c6f6344"
      },
      "source": [
        "cd /content/familyphotoprojV2"
      ],
      "execution_count": 8,
      "outputs": [
        {
          "output_type": "stream",
          "text": [
            "/content/familyphotoprojV2\n"
          ],
          "name": "stdout"
        }
      ]
    },
    {
      "cell_type": "code",
      "metadata": {
        "id": "1x3PzyaDdlwB"
      },
      "source": [
        "#activate GPU option\n",
        "#if your runtime is CPU, don't run this cell\n",
        "a_file = open(\"homepage/views.py\", \"r\")\n",
        "list_of_lines = a_file.readlines()\n",
        "list_of_lines[38] = \"#cfg.MODEL.DEVICE='cpu'\\n\"\n",
        "a_file = open(\"homepage/views.py\", \"w\")\n",
        "a_file.writelines(list_of_lines)\n",
        "a_file.close()"
      ],
      "execution_count": 9,
      "outputs": []
    },
    {
      "cell_type": "code",
      "metadata": {
        "colab": {
          "base_uri": "https://localhost:8080/",
          "height": 35
        },
        "id": "wTRWHrdqdo_M",
        "outputId": "d8583138-19ef-43c2-8864-7de89a3fef7d"
      },
      "source": [
        "#connect link\n",
        "from google.colab.output import eval_js\n",
        "print(eval_js(\"google.colab.kernel.proxyPort(8000)\"))"
      ],
      "execution_count": 10,
      "outputs": [
        {
          "output_type": "stream",
          "text": [
            "https://5pb0qchu55-496ff2e9c6d22116-8000-colab.googleusercontent.com/\n"
          ],
          "name": "stdout"
        }
      ]
    },
    {
      "cell_type": "code",
      "metadata": {
        "id": "HVHM2tXwdq1X"
      },
      "source": [
        "!python manage.py runserver 0.0.0.0:8000"
      ],
      "execution_count": null,
      "outputs": []
    },
    {
      "cell_type": "code",
      "metadata": {
        "id": "mgCzPwQ6fac_"
      },
      "source": [
        ""
      ],
      "execution_count": 11,
      "outputs": []
    }
  ]
}